{
  "nbformat": 4,
  "nbformat_minor": 0,
  "metadata": {
    "colab": {
      "name": "lista1_udemy.ipynb",
      "provenance": [],
      "collapsed_sections": [],
      "authorship_tag": "ABX9TyPOdA8gCUMT89dOzP7KfIEM",
      "include_colab_link": true
    },
    "kernelspec": {
      "name": "python3",
      "display_name": "Python 3"
    },
    "language_info": {
      "name": "python"
    }
  },
  "cells": [
    {
      "cell_type": "markdown",
      "metadata": {
        "id": "view-in-github",
        "colab_type": "text"
      },
      "source": [
        "<a href=\"https://colab.research.google.com/github/caiodasilvacosta/Voyager/blob/main/lista1_udemy.ipynb\" target=\"_parent\"><img src=\"https://colab.research.google.com/assets/colab-badge.svg\" alt=\"Open In Colab\"/></a>"
      ]
    },
    {
      "cell_type": "markdown",
      "metadata": {
        "id": "4mGsWp-ySKg2"
      },
      "source": [
        "1 - Faça um programa que leia um número inteiro e o imprima. "
      ]
    },
    {
      "cell_type": "code",
      "metadata": {
        "colab": {
          "base_uri": "https://localhost:8080/"
        },
        "id": "FlWiEojoSPHQ",
        "outputId": "be628a39-8216-4acb-be8d-a63844605645"
      },
      "source": [
        "int1 = int(input(\"Please, provide an integer.\"))\n",
        "print(f\"You've written the number {int1}\") "
      ],
      "execution_count": null,
      "outputs": [
        {
          "output_type": "stream",
          "text": [
            "Please, provide an integer.34\n",
            "You've written the number 34\n"
          ],
          "name": "stdout"
        }
      ]
    },
    {
      "cell_type": "markdown",
      "metadata": {
        "id": "z4q-aOFHUl3k"
      },
      "source": [
        "2 - Faça um programa que leia um número real e o imprima. "
      ]
    },
    {
      "cell_type": "code",
      "metadata": {
        "colab": {
          "base_uri": "https://localhost:8080/"
        },
        "id": "XDyewVPzUrH9",
        "outputId": "14b07aff-2910-4ad8-8d7f-4d0da2c7a2e9"
      },
      "source": [
        "real1 = float(input(\"Please, provide a real number. \"))\n",
        "print(\"The number you have just written is {}\".format(real1))"
      ],
      "execution_count": null,
      "outputs": [
        {
          "output_type": "stream",
          "text": [
            "Please, provide a real number. 3.9\n",
            "The number you have just written is 3.9\n"
          ],
          "name": "stdout"
        }
      ]
    },
    {
      "cell_type": "markdown",
      "metadata": {
        "id": "JFpLCFfRVlDb"
      },
      "source": [
        "3 - Peça ao usuário para digitar três valores inteiros e imprima a soma deles. "
      ]
    },
    {
      "cell_type": "code",
      "metadata": {
        "colab": {
          "base_uri": "https://localhost:8080/"
        },
        "id": "R6RtindMVuG3",
        "outputId": "c0aaaea3-83d6-4188-9681-f76a449c9be6"
      },
      "source": [
        "int_1 = int(input(\"Please, provide the first integer. \"))\n",
        "int_2 = int(input(\"Please, provide the second integer. \"))\n",
        "int_3 = int(input(\"Please, provide the third integer. \"))\n",
        "sum1 = int_1 + int_2 + int_3 \n",
        "print(f\"The number you've just written is {sum1}\")"
      ],
      "execution_count": null,
      "outputs": [
        {
          "output_type": "stream",
          "text": [
            "Please, provide the first integer. 4\n",
            "Please, provide the second integer. 3\n",
            "Please, provide the third integer. 3\n",
            "The number you've just written is 10\n"
          ],
          "name": "stdout"
        }
      ]
    },
    {
      "cell_type": "markdown",
      "metadata": {
        "id": "v-JhrDzuWmVl"
      },
      "source": [
        "4 - Leia um número real e imprima o resultado do quadrado desse número. "
      ]
    },
    {
      "cell_type": "code",
      "metadata": {
        "colab": {
          "base_uri": "https://localhost:8080/"
        },
        "id": "dWfF5pLfXJiz",
        "outputId": "27aa8970-d95f-46be-da62-4c9bab01ceef"
      },
      "source": [
        "real2 = float(input(\"Please, provide a real number. \"))\n",
        "print(f\"The square of the number you've just written is {real2 ** 2}\")"
      ],
      "execution_count": null,
      "outputs": [
        {
          "output_type": "stream",
          "text": [
            "Please, provide a real number. 3.89\n",
            "The square of the number you've just written is 15.132100000000001\n"
          ],
          "name": "stdout"
        }
      ]
    },
    {
      "cell_type": "markdown",
      "metadata": {
        "id": "ZJK-p81DXib3"
      },
      "source": [
        "5 - Leia um número real e imprima a quinta parte desse número. "
      ]
    },
    {
      "cell_type": "code",
      "metadata": {
        "colab": {
          "base_uri": "https://localhost:8080/"
        },
        "id": "kOJAbMFEXrCb",
        "outputId": "ef19f53a-2b87-48ae-a3e2-234966969144"
      },
      "source": [
        "real3 = float(input(\"Please, provide another real number. \"))\n",
        "print(f\"The fifth part of the number you've just written is {real3 * 0.2}\")"
      ],
      "execution_count": null,
      "outputs": [
        {
          "output_type": "stream",
          "text": [
            "Please, provide another real number. 43.98\n",
            "The fifth part of the number you've just written is 8.796\n"
          ],
          "name": "stdout"
        }
      ]
    },
    {
      "cell_type": "markdown",
      "metadata": {
        "id": "a6Q2-1doZZVU"
      },
      "source": [
        "6 - Leia uma temperatura em graus Celsius e apresente-a em graus Fahrenheit. A fórmula de conversão é F = C * (9.0/5.0) + 32.0."
      ]
    },
    {
      "cell_type": "code",
      "metadata": {
        "colab": {
          "base_uri": "https://localhost:8080/"
        },
        "id": "xES2BlO6aPrO",
        "outputId": "861fc2c5-c6a5-46b2-cb23-ffb2d2890922"
      },
      "source": [
        "t1_celsius = float(input(\"Digite o valor da temperatura, em graus Celsius. \"))\n",
        "t1_fahrenheit = t1_celsius * (9.0/5.0) + 32.0\n",
        "print(f\"A temperatura de {t1_celsius}, em graus Celsius, corresponde a {t1_fahrenheit} em graus Fahrenheit.\")"
      ],
      "execution_count": null,
      "outputs": [
        {
          "output_type": "stream",
          "text": [
            "Digite o valor da temperatura, em graus Celsius. 25\n",
            "A temperatura de 25.0, em graus Celsius, corresponde a 77.0 em graus Fahrenheit.\n"
          ],
          "name": "stdout"
        }
      ]
    },
    {
      "cell_type": "markdown",
      "metadata": {
        "id": "ZAJ1IB11biic"
      },
      "source": [
        "7 - Leia uma temperatura em graus Fahrenheit e apresente-a em graus Celsius. A fórmula de conversão é  C = 5.0 * (F - 32.0) / 9.0."
      ]
    },
    {
      "cell_type": "code",
      "metadata": {
        "colab": {
          "base_uri": "https://localhost:8080/"
        },
        "id": "YNf4ssnCb6T-",
        "outputId": "67e725d0-3c52-4ab0-b9fe-83214b4b4f45"
      },
      "source": [
        "t2_fahrenheit = float(input(\"Digite o valor da temperatura, em graus Fahrenheit. \"))\n",
        "t2_celsius = 5.0 * (t2_fahrenheit - 32.0) / 9.0\n",
        "print(f\"A temperatura de {t2_fahrenheit}, em graus Fahrenheit, corresponde a {t2_celsius} em graus Celsius.\")"
      ],
      "execution_count": null,
      "outputs": [
        {
          "output_type": "stream",
          "text": [
            "Digite o valor da temperatura, em graus Fahrenheit. 327\n",
            "A temperatura de 327.0, em graus Fahrenheit, corresponde a 163.88888888888889 em graus Celsius.\n"
          ],
          "name": "stdout"
        }
      ]
    },
    {
      "cell_type": "markdown",
      "metadata": {
        "id": "DJdEbmapdaQL"
      },
      "source": [
        "8 - Leia uma temperatura em Kelvin e apresente-a em graus Celsius. A fórmula de conversão é C = K - 273.15. "
      ]
    },
    {
      "cell_type": "code",
      "metadata": {
        "colab": {
          "base_uri": "https://localhost:8080/"
        },
        "id": "S0oveBnkeA0O",
        "outputId": "612ca8ba-38a8-4f0b-e0e9-07036bc004c1"
      },
      "source": [
        "t1_kelvin = float(input(\"Digite o valor da temperatura, em kelvin. \"))\n",
        "t3_celsius = t1_kelvin  - 273.15 \n",
        "print(f\"A temperatura de {t1_kelvin}, em Kelvin, corresponde a {t3_celsius} em graus Celsius.\")"
      ],
      "execution_count": null,
      "outputs": [
        {
          "output_type": "stream",
          "text": [
            "Digite o valor da temperatura, em kelvin. 0\n",
            "A temperatura de 0.0, em Kelvin, corresponde a -273.15 em graus Celsius.\n"
          ],
          "name": "stdout"
        }
      ]
    },
    {
      "cell_type": "markdown",
      "metadata": {
        "id": "_Z6zqtzBey40"
      },
      "source": [
        "9 - Leia uma temperatura em graus Celsius e apresente-a em Kelvin. A fórmula de conversão é K = C + 273.15."
      ]
    },
    {
      "cell_type": "code",
      "metadata": {
        "colab": {
          "base_uri": "https://localhost:8080/"
        },
        "id": "Pn09op-ye_ZE",
        "outputId": "cea25bdd-047a-4736-9956-36e8b4a05ea4"
      },
      "source": [
        "t4_celsius = float(input(\"Digite o valor da temperatura, em graus Celsius. \"))\n",
        "t2_kelvin = t4_celsius + 273.15\n",
        "print(f\"A temperatura de {t4_celsius}, em graus Celsius, corresponde a {t2_kelvin} em graus Kelvin\")"
      ],
      "execution_count": null,
      "outputs": [
        {
          "output_type": "stream",
          "text": [
            "Digite o valor da temperatura, em graus Celsius. -273.15\n",
            "A temperatura de -273.15, em graus Celsius, corresponde a 0.0 em graus Kelvin\n"
          ],
          "name": "stdout"
        }
      ]
    },
    {
      "cell_type": "markdown",
      "metadata": {
        "id": "ggJwXpk4f8ri"
      },
      "source": [
        "10 - Leia uma velocidade em km/h e apresente-a convertida em m/s. A fórmula de conversão é M = K / 3.6, sendo M a velocidade em metros por segundo e K a velocidade em quilômetros por hora. "
      ]
    },
    {
      "cell_type": "code",
      "metadata": {
        "colab": {
          "base_uri": "https://localhost:8080/"
        },
        "id": "XroAnWEUgnYi",
        "outputId": "c0d45422-79e9-418d-b670-43f9a55a8cae"
      },
      "source": [
        "k = float(input(\"Digite o valor da velocidade em quilômetros por hora. \"))\n",
        "print(f\"O valor de {k} km/h corresponde a {k / 3.6} m/s.\")"
      ],
      "execution_count": null,
      "outputs": [
        {
          "output_type": "stream",
          "text": [
            "Digite o valor da velocidade em quilômetros por hora. 120\n",
            "O valor de 120.0 km/h corresponde a 33.333333333333336 m/s.\n"
          ],
          "name": "stdout"
        }
      ]
    },
    {
      "cell_type": "markdown",
      "source": [
        "11 - Leia uma velocidade em m/s  e apresente-a convertida em km/h. A fórmula de conversão é K = M*3.6, sendo K a velocidade em km/h e M em m/s.  "
      ],
      "metadata": {
        "id": "bykG8pp8Typg"
      }
    },
    {
      "cell_type": "code",
      "source": [
        "m = float(input(\"Digite o valor da velocidade em metros por segundo. \"))\n",
        "print(f\"O valor de {m} m/s corresponde a {m * 3.6} km/h.\")"
      ],
      "metadata": {
        "colab": {
          "base_uri": "https://localhost:8080/"
        },
        "id": "kdJIEBJHWQ2n",
        "outputId": "6bb38050-e5f4-4bf1-e86e-5c3981dd36a4"
      },
      "execution_count": null,
      "outputs": [
        {
          "output_type": "stream",
          "name": "stdout",
          "text": [
            "Digite o valor da velocidade em metros por segundo. 10\n",
            "O valor de 10.0 m/s corresponde a 36.0 km/h.\n"
          ]
        }
      ]
    },
    {
      "cell_type": "markdown",
      "source": [
        "12 - Leia uma distância em milhas e apresente-a convertida em quilômetros. A formula de conversão é K = 1.61 * M."
      ],
      "metadata": {
        "id": "sPNIiBgqWtR-"
      }
    },
    {
      "cell_type": "code",
      "source": [
        "milhas_one = float(input(\"Por favor, entre com o valor da distância, em milhas. \"))\n",
        "print(f\"O valor de {milhas_one} milhas corresponde a {milhas_one * 1.61} quilômetros\")"
      ],
      "metadata": {
        "colab": {
          "base_uri": "https://localhost:8080/"
        },
        "id": "E9epGY_5W6Ze",
        "outputId": "30016c0b-a373-4451-9ea7-198d73c51ecf"
      },
      "execution_count": null,
      "outputs": [
        {
          "output_type": "stream",
          "name": "stdout",
          "text": [
            "Por favor, entre com o valor da distância, em milhas. 45\n",
            "O valor de 45.0 milhas corresponde a 72.45 quilômetros\n"
          ]
        }
      ]
    },
    {
      "cell_type": "markdown",
      "source": [
        "13 - Leia uma distância em quilômetros e apresente-a convertida em milhas. A fórmula de conversão é M = K / 1.61. "
      ],
      "metadata": {
        "id": "McC6ZqkzXepl"
      }
    },
    {
      "cell_type": "code",
      "source": [
        "kilometros_one = float(input(\"Por favor, entre com o valor da distãncia, em quilômetros. \"))\n",
        "print(f\"O valor de {kilometros_one} quilômetros corresponde a {kilometros_one / 1.61} milhas.\")"
      ],
      "metadata": {
        "colab": {
          "base_uri": "https://localhost:8080/"
        },
        "id": "uRlAiETVXqBN",
        "outputId": "beff2721-7267-48b8-a33a-e17737cbbebb"
      },
      "execution_count": null,
      "outputs": [
        {
          "output_type": "stream",
          "name": "stdout",
          "text": [
            "Por favor, entre com o valor da distãncia, em quilômetros. 72.45\n",
            "O valor de 72.45 quilômetros corresponde a 45.0 milhas.\n"
          ]
        }
      ]
    },
    {
      "cell_type": "markdown",
      "source": [
        "14 - Leia um ângulo em graus e apresente-o convertido em radianos. A fórmula de conversão é R = G*pi/180. "
      ],
      "metadata": {
        "id": "s1i1wLkkYDpv"
      }
    },
    {
      "cell_type": "code",
      "source": [
        "import math\n",
        "ang_graus = float(input(\"Por favor, entre com o valor do ângulo, em graus. \"))\n",
        "print(f\"O valor de {ang_graus} graus corresponde a {ang_graus * math.pi / 180} radianos.\")"
      ],
      "metadata": {
        "colab": {
          "base_uri": "https://localhost:8080/"
        },
        "id": "fSZjr7hbYSxF",
        "outputId": "4572a145-be78-47fa-eb6f-35f0e16d11a3"
      },
      "execution_count": null,
      "outputs": [
        {
          "output_type": "stream",
          "name": "stdout",
          "text": [
            "Por favor, entre com o valor do ângulo, em graus. 360\n",
            "O valor de 360.0 graus corresponde a 6.283185307179586 radianos.\n"
          ]
        }
      ]
    },
    {
      "cell_type": "markdown",
      "source": [
        "15 - Leia um ângulo em radianos e apresente-o convertido em graus. A fórmula de conversão é G = R*180/pi.\n"
      ],
      "metadata": {
        "id": "oyPYrIx2ZcjH"
      }
    },
    {
      "cell_type": "code",
      "source": [
        "import math\n",
        "ang_radianos = float(input(\"Por favor, entre com o valor do ângulo, em radianos.\"))\n",
        "print(f\"O valor de {ang_radianos} radianos corresponde a {ang_radianos * 180 / math.pi} graus.\")"
      ],
      "metadata": {
        "colab": {
          "base_uri": "https://localhost:8080/"
        },
        "id": "97t4470dZqU8",
        "outputId": "a8a0f243-d3e5-46d3-e21b-7c5fd9c6925c"
      },
      "execution_count": null,
      "outputs": [
        {
          "output_type": "stream",
          "name": "stdout",
          "text": [
            "Por favor, entre com o valor do ângulo, em radianos.3.14\n",
            "O valor de 3.14 radianos corresponde a 179.90874767107852 graus.\n"
          ]
        }
      ]
    },
    {
      "cell_type": "markdown",
      "source": [
        "16 - Leia um valor de comprimento em polegadas e apresente-o convertido em centímetros. A fórmula de conversão é C  = P * 2.54."
      ],
      "metadata": {
        "id": "CCPyw5QdaUwd"
      }
    },
    {
      "cell_type": "code",
      "source": [
        "inches_one = float(input(\"Por favor, digite o valor do comprimento em polegadas.\"))\n",
        "print(f\"O valor de {inches_one} polegadas corresponde a {inches_one * 2.54} centímetros.\")"
      ],
      "metadata": {
        "colab": {
          "base_uri": "https://localhost:8080/"
        },
        "id": "NcTckjQGahSk",
        "outputId": "3e0ac85b-da0d-41ea-b637-2c1ebec36018"
      },
      "execution_count": null,
      "outputs": [
        {
          "output_type": "stream",
          "name": "stdout",
          "text": [
            "Por favor, digite o valor do comprimento em polegadas.54\n",
            "O valor de 54.0 polegadas corresponde a 137.16 centímetros.\n"
          ]
        }
      ]
    },
    {
      "cell_type": "markdown",
      "source": [
        "17 - Leia um valor de comprimento em centímetros e apresente-o convertido em polegadas. A fórmula de conversão é P = C / 2.54"
      ],
      "metadata": {
        "id": "1Omt6AzZa5lP"
      }
    },
    {
      "cell_type": "code",
      "source": [
        "centimeters_one = float(input(\"Por favor, digite o valor do comprimento em centímetros.\"))\n",
        "print(f\"O valor de {centimeters_one} centímetros corresponde a {centimeters_one / 2.54} polegadas.\")"
      ],
      "metadata": {
        "colab": {
          "base_uri": "https://localhost:8080/"
        },
        "id": "llgmF5wQbHAz",
        "outputId": "078a0f06-1c1b-4ab9-8612-7b2202120b10"
      },
      "execution_count": null,
      "outputs": [
        {
          "output_type": "stream",
          "name": "stdout",
          "text": [
            "Por favor, digite o valor do comprimento em centímetros.137.16\n",
            "O valor de 137.16 centímetros corresponde a 54.0 polegadas.\n"
          ]
        }
      ]
    },
    {
      "cell_type": "markdown",
      "source": [
        "18 - Leia um valor de volume em metros cúbicos m³ e apresente-o convertido em litros. A fórmula de conversão é L = 1000 * M, sendo L o volume em litros e M o volume em metros cúbicos. "
      ],
      "metadata": {
        "id": "-5cNpEk1cf5U"
      }
    },
    {
      "cell_type": "code",
      "source": [
        "metroscubicos_one = float(input(\"Por favor, digite o valor do volume em metros cúbicos.\"))\n",
        "print(f\"O volume de {metroscubicos_one} metros cúbicos corresponde a {metroscubicos_one * 1000} litros.\")"
      ],
      "metadata": {
        "colab": {
          "base_uri": "https://localhost:8080/"
        },
        "id": "mIIDIrGbc4QD",
        "outputId": "2db14bd4-4d7c-4c90-af5e-dec52df44066"
      },
      "execution_count": null,
      "outputs": [
        {
          "output_type": "stream",
          "name": "stdout",
          "text": [
            "Por favor, digite o valor do volume em metros cúbicos.10\n",
            "O volume de 10.0 metros cúbicos corresponde a 10000.0 litros.\n"
          ]
        }
      ]
    },
    {
      "cell_type": "markdown",
      "source": [
        "19 - Leia um valor de volume em litros e apresente-o convertido em metros cúbicos m³. A fórmula de conversão é M = L / 1000 , sendo L o volume em litros e M o volume em metros cúbicos"
      ],
      "metadata": {
        "id": "hC1ggcprd8GD"
      }
    },
    {
      "cell_type": "code",
      "source": [
        "litros_one = float(input(\"Por favor, digite o valor do volume em litros.\"))\n",
        "print(f\"O volume de {litros_one} litros corresponde a {litros_one / 1000} metros cúbicos.\")"
      ],
      "metadata": {
        "colab": {
          "base_uri": "https://localhost:8080/"
        },
        "id": "Mtep5TfzeNms",
        "outputId": "10217c4a-fce6-4a78-8a8d-4fb6300f9c9b"
      },
      "execution_count": null,
      "outputs": [
        {
          "output_type": "stream",
          "name": "stdout",
          "text": [
            "Por favor, digite o valor do volume em litros.10\n",
            "O volume de 10.0 litros corresponde a 0.01 metros cúbicos.\n"
          ]
        }
      ]
    },
    {
      "cell_type": "markdown",
      "source": [
        "20 - Leia um valor de massa em quilogramas e apresente-o convertido em libras. A fórmula de conversão é L = K / 0.45, sendo K a massa em quilogramas e L a massa em libras. "
      ],
      "metadata": {
        "id": "Kp-3HS9xemu6"
      }
    },
    {
      "cell_type": "code",
      "source": [
        "kilograms_one = float(input(\"Por favor, digite o valor de massa, em quilogramas.\"))\n",
        "print(f\"A massa de {kilograms_one} quilogramas corresponde a {kilograms_one / 0.45} libras.\")"
      ],
      "metadata": {
        "colab": {
          "base_uri": "https://localhost:8080/"
        },
        "id": "oBpzT56ve-Lq",
        "outputId": "025a8db7-0e4c-40c6-83ae-af22b0c3ec59"
      },
      "execution_count": null,
      "outputs": [
        {
          "output_type": "stream",
          "name": "stdout",
          "text": [
            "Por favor, digite o valor de massa, em quilogramas.51.32\n",
            "A massa de 51.32 quilogramas corresponde a 114.04444444444444 libras.\n"
          ]
        }
      ]
    },
    {
      "cell_type": "markdown",
      "source": [
        "21 - Leia um valor de massa em libras e apresente-o convertido em quilogramas. A fórmula de conversão é K = L*0.45, sendo K a massa em quilogramas e L a massa em libras. "
      ],
      "metadata": {
        "id": "XXRUiJHUiLYx"
      }
    },
    {
      "cell_type": "code",
      "source": [
        "pounds_one = float(input(\"Por favor, digite o valor da massa, em libras. \"))\n",
        "print(f\"A massa de {pounds_one} libras corresponde a {pounds_one*0.45} quilogramas. \")"
      ],
      "metadata": {
        "colab": {
          "base_uri": "https://localhost:8080/"
        },
        "id": "zh2GaA8viz4X",
        "outputId": "a930f0f4-9e0c-4e7d-eac7-f8e6960c01bc"
      },
      "execution_count": null,
      "outputs": [
        {
          "output_type": "stream",
          "name": "stdout",
          "text": [
            "Por favor, digite o valor da massa, em libras. 542\n",
            "A massa de 542.0 libras corresponde a 243.9 quilogramas. \n"
          ]
        }
      ]
    },
    {
      "cell_type": "markdown",
      "source": [
        "22 - Leia um valor de comprimento em jardas e apresente-o convertido em metros. A fórmula de conversão á M = 0.91*J, sendo J o comprimento em jardas e L a massa em libras. "
      ],
      "metadata": {
        "id": "Ufg2wGV9jni3"
      }
    },
    {
      "cell_type": "code",
      "source": [
        "jardas_one = float(input(\"Por favor, informe o valor do comprimento em jardas.\"))\n",
        "print(f\"O valor digitado de {jardas_one} jardas corresponde a {jardas_one*0.91} metros.\")"
      ],
      "metadata": {
        "colab": {
          "base_uri": "https://localhost:8080/"
        },
        "id": "Oby9TWKmj2eO",
        "outputId": "dbbe734b-0bfd-4802-c05c-f5ac58081d7c"
      },
      "execution_count": null,
      "outputs": [
        {
          "output_type": "stream",
          "name": "stdout",
          "text": [
            "Por favor, informe o valor do comprimento em jardas.50\n",
            "O valor digitado de 50.0 jardas corresponde a 45.5 metros.\n"
          ]
        }
      ]
    },
    {
      "cell_type": "markdown",
      "source": [
        "23 - Leia um valor de comprimento em metros e apresente-o convertido em jardas. A fórmula de conversão é J = M / 0.91, sendo J o comprimento em jardas e M o comprimento em metros. "
      ],
      "metadata": {
        "id": "GUoRgLwDkTOg"
      }
    },
    {
      "cell_type": "code",
      "source": [
        "meters_two = float(input(\"Por favor, informe o valor do comprimento em metros.\"))\n",
        "print(f\"O valor digitado de {meters_two} metros corresponde a {meters_two/0.91} jardas.\")"
      ],
      "metadata": {
        "colab": {
          "base_uri": "https://localhost:8080/"
        },
        "id": "ulw82j-3koM2",
        "outputId": "7e3ccda2-79fa-41fe-8330-c873fa3d3aae"
      },
      "execution_count": null,
      "outputs": [
        {
          "output_type": "stream",
          "name": "stdout",
          "text": [
            "Por favor, informe o valor do comprimento em metros.45.5\n",
            "O valor digitado de 45.5 metros corresponde a 50.0 jardas.\n"
          ]
        }
      ]
    },
    {
      "cell_type": "markdown",
      "source": [
        "24 - Leia um valor de área em metros quadrados m² e apresente-o convertido em acres. A fórmula de conversão é A = M * 0.000247, sendo M a área em metros quadrados e A a área em acres. "
      ],
      "metadata": {
        "id": "92mK8B0xlIs-"
      }
    },
    {
      "cell_type": "code",
      "source": [
        "squaremeters_one = float(input(\"Por favor, informe a área em metros quadrados.\"))\n",
        "print(f\"O valor de {squaremeters_one} metros quadrados corresponde a {squaremeters_one * 0.000247} acres.\")"
      ],
      "metadata": {
        "colab": {
          "base_uri": "https://localhost:8080/"
        },
        "id": "SCkCK0Leln5_",
        "outputId": "9516dfdd-d871-4735-ad9c-8c402fcc2b35"
      },
      "execution_count": null,
      "outputs": [
        {
          "output_type": "stream",
          "name": "stdout",
          "text": [
            "Por favor, informe a área em metros quadrados.100\n",
            "O valor de 100.0 metros quadrados corresponde a 0.0247 acres.\n"
          ]
        }
      ]
    },
    {
      "cell_type": "markdown",
      "source": [
        "25 - Leia um valor de área em acres e apresente-o convertido em metros quadrados m². A fórmula de conversão é M = A * 4048.58, sendo M a área em metros quadrados e A a área em acres. "
      ],
      "metadata": {
        "id": "jzhQUAC2mKf-"
      }
    },
    {
      "cell_type": "code",
      "source": [
        "acres_one = float(input(\"Por favor, digite a área em acres.\"))\n",
        "print(f\"O valor de {acres_one} acres corresponde a {acres_one * 4048.58} metros quadrados.\")"
      ],
      "metadata": {
        "colab": {
          "base_uri": "https://localhost:8080/"
        },
        "id": "7Pmbd5Y3mk29",
        "outputId": "bf52b93e-9999-4da9-da00-a1080c638535"
      },
      "execution_count": null,
      "outputs": [
        {
          "output_type": "stream",
          "name": "stdout",
          "text": [
            "Por favor, digite a área em acres.0.0247\n",
            "O valor de 0.0247 acres corresponde a 99.999926 metros quadrados.\n"
          ]
        }
      ]
    },
    {
      "cell_type": "markdown",
      "source": [
        "26 - Leia um valor de área em metros quadrados m² e apresente-o em hectares. A fórmula de conversão é H = M *0.0001, sendo M a área em metros quadrados  e H a área em hectares. "
      ],
      "metadata": {
        "id": "atUXXWVsm9TH"
      }
    },
    {
      "cell_type": "code",
      "source": [
        "squaremeters_two = float(input(\"Por favor, informe a área em metros quadrados.\"))\n",
        "print(f\"O valor de {squaremeters_two} metros quadrados corresponde a {squaremeters_two * 0.0001} hectares.\")"
      ],
      "metadata": {
        "colab": {
          "base_uri": "https://localhost:8080/"
        },
        "id": "U4vaKnRRnQ6m",
        "outputId": "397812df-f85c-4a5e-a91c-4b78ec46a056"
      },
      "execution_count": null,
      "outputs": [
        {
          "output_type": "stream",
          "name": "stdout",
          "text": [
            "Por favor, informe a área em metros quadrados.84\n",
            "O valor de 84.0 metros quadrados corresponde a 0.008400000000000001 hectares.\n"
          ]
        }
      ]
    },
    {
      "cell_type": "markdown",
      "source": [
        "27 - Leia um valor de área em hectares e apresente-o convertido em metros quadrados m². A fórmula de conversão é M = H * 10000, sendo M a área em metros quadrados e H a área em hectares. "
      ],
      "metadata": {
        "id": "3vkoo8fEn-i2"
      }
    },
    {
      "cell_type": "code",
      "source": [
        "hectares_one  = float(input(\"Por favor, informe a área em hectares.\"))\n",
        "print(f\"O valor de {hectares_one} hectares corresponde a {hectares_one * 10000} metros quadrados.\")"
      ],
      "metadata": {
        "colab": {
          "base_uri": "https://localhost:8080/"
        },
        "id": "j1yFTwrUoUtV",
        "outputId": "0cf69905-5e3d-41a6-adca-2a1baba37946"
      },
      "execution_count": null,
      "outputs": [
        {
          "output_type": "stream",
          "name": "stdout",
          "text": [
            "Por favor, informe a área em hectares.0.0084\n",
            "O valor de 0.0084 hectares corresponde a 84.0 metros quadrados.\n"
          ]
        }
      ]
    },
    {
      "cell_type": "markdown",
      "source": [
        "28 - Faça a leitura de três valores e apresente como resultado a soma dos quadrados dos três valores lidos. "
      ],
      "metadata": {
        "id": "nEbqDcuHp2u5"
      }
    },
    {
      "cell_type": "code",
      "source": [
        "import math\n",
        "a_1 = float(input(\"Por favor, informe o primeiro valor.\"))\n",
        "a_2 = float(input(\"Por favor, informe o segundo valor.\"))\n",
        "a_3 = float(input(\"Por favor, informe o terceiro valor.\"))\n",
        "print(f\"A soma dos quadrados do três valores é {math.pow(a_1, 2) + math.pow(a_2, 2) + math.pow(a_3, 2)}.\")"
      ],
      "metadata": {
        "colab": {
          "base_uri": "https://localhost:8080/"
        },
        "id": "kKQGYGp8p-0h",
        "outputId": "dc4610d9-0a6a-436a-b142-32dab793686d"
      },
      "execution_count": null,
      "outputs": [
        {
          "output_type": "stream",
          "name": "stdout",
          "text": [
            "Por favor, informe o primeiro valor.23\n",
            "Por favor, informe o segundo valor.62\n",
            "Por favor, informe o terceiro valor.1\n",
            "A soma dos quadrados do três valores é 4374.0.\n"
          ]
        }
      ]
    },
    {
      "cell_type": "markdown",
      "source": [
        "29 - Leia quatro notas, calcule a média aritmética e imprima o resultado. "
      ],
      "metadata": {
        "id": "U0qOdZ7qqxoA"
      }
    },
    {
      "cell_type": "code",
      "source": [
        "a_4 = float(input(\"Por favor, informe o primeiro valor.\"))\n",
        "a_5 = float(input(\"Por favor, informe o segundo valor.\"))\n",
        "a_6 = float(input(\"Por favor, informe o terceiro valor.\"))\n",
        "a_7 = float(input(\"Por favor, informe o quarto valor.\"))\n",
        "print(f\"A média aritmética das quatro notas é {(a_4 + a_5 + a_6 + a_7)/4}\")"
      ],
      "metadata": {
        "colab": {
          "base_uri": "https://localhost:8080/"
        },
        "id": "sBhQdyKZq4Zx",
        "outputId": "2bc69351-2e58-4b33-9b53-d0f5f9f18906"
      },
      "execution_count": null,
      "outputs": [
        {
          "output_type": "stream",
          "name": "stdout",
          "text": [
            "Por favor, informe o primeiro valor.12\n",
            "Por favor, informe o segundo valor.10\n",
            "Por favor, informe o terceiro valor.11\n",
            "Por favor, informe o quarto valor.11\n",
            "A média aritmética das quatro notas é 11.0\n"
          ]
        }
      ]
    },
    {
      "cell_type": "markdown",
      "source": [
        "30 - Leia um valor em real e a cotação do dólar. Em seguida, imprima o valor correspondente em dólares. "
      ],
      "metadata": {
        "id": "lWhCgcE7rbfn"
      }
    },
    {
      "cell_type": "code",
      "source": [
        "valor_one = float(input(\"Por favor, informe o valor em reais. \"))\n",
        "cotacao_one = float(input(\"Qual é o valor da cotação do dólar atual? \"))\n",
        "print(f\"O valor de {valor_one} reais corresponde a {valor_one * cotacao_one} dólares.\")"
      ],
      "metadata": {
        "colab": {
          "base_uri": "https://localhost:8080/"
        },
        "id": "pWOCZd5VrkCo",
        "outputId": "29810f8e-b69c-4e6e-abb3-8f750fb2efad"
      },
      "execution_count": null,
      "outputs": [
        {
          "output_type": "stream",
          "name": "stdout",
          "text": [
            "Por favor, informe o valor em reais. 12\n",
            "Qual é o valor da cotação do dólar atual? 5.16\n",
            "O valor de 12.0 reais corresponde a 61.92 dólares.\n"
          ]
        }
      ]
    },
    {
      "cell_type": "markdown",
      "source": [
        "31 - Leia um número inteiro e imprima o seu antecessor e o seu sucessor. "
      ],
      "metadata": {
        "id": "YUW7vktxsycv"
      }
    },
    {
      "cell_type": "code",
      "source": [
        "a_8 = int(input(\"Por favor, forneça um valor inteiro.\"))\n",
        "print(f\"O antecessor de {a_8} é {a_8 - 1} e o sucessor é {a_8 + 1}.\")"
      ],
      "metadata": {
        "colab": {
          "base_uri": "https://localhost:8080/"
        },
        "id": "YnUqH5o0s3s3",
        "outputId": "68fe533a-29b7-4b05-c8b2-02bc335a0047"
      },
      "execution_count": null,
      "outputs": [
        {
          "output_type": "stream",
          "name": "stdout",
          "text": [
            "Por favor, forneça um valor inteiro.251\n",
            "O antecessor de 251 é 250 e o sucessor é 252.\n"
          ]
        }
      ]
    },
    {
      "cell_type": "markdown",
      "source": [
        "32 - Leia um número inteiro e imprima a soma do sucessor de seu triplo com o antecessor de seu dobro."
      ],
      "metadata": {
        "id": "ENBkU-uztPyj"
      }
    },
    {
      "cell_type": "code",
      "source": [
        "a_9 = int(input(\"Por favor, forneça um valor inteiro.\"))\n",
        "print(f\"A soma do sucessor de seu triplo com o antecessor de seu dobro é {(3*a_9+1)+(2*a_9-1)}.\")"
      ],
      "metadata": {
        "colab": {
          "base_uri": "https://localhost:8080/"
        },
        "id": "TFJn-WL8tam_",
        "outputId": "088b170c-76a9-475c-f087-da15f9d69b12"
      },
      "execution_count": null,
      "outputs": [
        {
          "output_type": "stream",
          "name": "stdout",
          "text": [
            "Por favor, forneça um valor inteiro.54\n",
            "A soma do sucessor de seu triplo com o antecessor de seu dobro é 270.\n"
          ]
        }
      ]
    },
    {
      "cell_type": "markdown",
      "source": [
        "33 - Leia o tamanho do lado de um quadrado e imprima como resultado a sua área."
      ],
      "metadata": {
        "id": "ZpGTVqtxuMhV"
      }
    },
    {
      "cell_type": "code",
      "source": [
        "lado_one = float(input(\"Por favor, forneça o valor do lado do quadrado.\"))\n",
        "print(f\"Isso posto, a área do quadrado é {lado_one ** 2}.\")"
      ],
      "metadata": {
        "colab": {
          "base_uri": "https://localhost:8080/"
        },
        "id": "AHHJsCIeuT9V",
        "outputId": "755b1a73-cef7-4e9a-da62-9a36a833ea57"
      },
      "execution_count": null,
      "outputs": [
        {
          "output_type": "stream",
          "name": "stdout",
          "text": [
            "Por favor, forneça o valor do lado do quadrado.10\n",
            "Isso posto, a área do quadrado é 100.0.\n"
          ]
        }
      ]
    },
    {
      "cell_type": "markdown",
      "source": [
        "34  - Leia o valor do raio de um círculo e calcule e imprima a área do círculo correspondente. A área do círculo é pi*raio², considere pi = 3.141592."
      ],
      "metadata": {
        "id": "SvrSCu1VkITI"
      }
    },
    {
      "cell_type": "code",
      "source": [
        "import numpy \n",
        "raio = float(input(\"Por favor, informe o valor do raio da circunferência. \"))\n",
        "print(f\"A área da circunferência que possua o raio de {raio} é de {raio * raio * numpy.pi}\")"
      ],
      "metadata": {
        "colab": {
          "base_uri": "https://localhost:8080/"
        },
        "id": "mh5B2u1xkddW",
        "outputId": "9034f5cb-07ac-490d-df4c-05a9a86a0749"
      },
      "execution_count": null,
      "outputs": [
        {
          "output_type": "stream",
          "name": "stdout",
          "text": [
            "Por favor, informe o valor do raio da circunferência. 1\n",
            "A área da circunferência que possua o raio de 1.0 é de 3.141592653589793\n"
          ]
        }
      ]
    },
    {
      "cell_type": "markdown",
      "source": [
        "35 - Sejam a e b os catetos de um triângulo, onde a hipotenusa é obtida pela equação sqrt(a²+b²). Faça um programa que receba os valores de a e b e calcule o valor da hipotenusa através dessa operação. "
      ],
      "metadata": {
        "id": "PZDHEkUwlCBN"
      }
    },
    {
      "cell_type": "code",
      "source": [
        "import numpy\n",
        "cateto_one = float(input(\"Por favor, informe o valor do primeiro cateto.\"))\n",
        "cateto_two = float(input(\"Por favor, informe o valor do segundo cateto.\"))\n",
        "print(f\"A hipotenusa de um triângulo retângulo com catetos {cateto_one} e {cateto_two} é {numpy.sqrt(cateto_one * cateto_one + cateto_two * cateto_two)}\")\n"
      ],
      "metadata": {
        "colab": {
          "base_uri": "https://localhost:8080/"
        },
        "id": "tT-WiV9tlS3L",
        "outputId": "d24992ee-eb70-4548-f8c3-d758be812f17"
      },
      "execution_count": null,
      "outputs": [
        {
          "output_type": "stream",
          "name": "stdout",
          "text": [
            "Por favor, informe o valor do primeiro cateto.3\n",
            "Por favor, informe o valor do segundo cateto.4\n",
            "A hipotenusa de um triângulo retângulo com catetos 3.0 e 4.0 é 5.0\n"
          ]
        }
      ]
    },
    {
      "cell_type": "markdown",
      "source": [
        "36 - Leia a altura e o raio de um cilindro circular e imprima o volume do cilindro. O volume de um cilindro circular é calculado por meio da fórmula V = área da base * altura."
      ],
      "metadata": {
        "id": "GW03jAl6mE0d"
      }
    },
    {
      "cell_type": "code",
      "source": [
        "height = float(input(\"Por favor, informe o valor da altura do cilindro.\"))\n",
        "raio_one = float(input(\"Por favor, informe o valor do raio.\"))\n",
        "print(f\"A área de um cilindro circular de raio {raio_one} e altura {height} é {numpy.pi * numpy.power(raio_one, 2) * height}\")"
      ],
      "metadata": {
        "colab": {
          "base_uri": "https://localhost:8080/"
        },
        "id": "E5s5r3Q2mSRr",
        "outputId": "0432738d-7d1f-487f-892b-06716cb743c0"
      },
      "execution_count": null,
      "outputs": [
        {
          "output_type": "stream",
          "name": "stdout",
          "text": [
            "Por favor, informe o valor da altura do cilindro.2\n",
            "Por favor, informe o valor do raio.5\n",
            "A área de um cilindro circular de raio 5.0 e altura 2.0 é 157.07963267948966\n"
          ]
        }
      ]
    },
    {
      "cell_type": "markdown",
      "source": [
        "37 - Faça um programa que leia o valor de um produto e imprima o valor com desconto, tendo em vista que o desconto foi de 12%."
      ],
      "metadata": {
        "id": "0z-aOYAgm8nU"
      }
    },
    {
      "cell_type": "code",
      "source": [
        "cost = float(input(\"Por favor, forneça o valor do produto com os centavos. \"))\n",
        "print(f\"O valor de seu produto, já descontada a taxa de 12%, é de {0.88 * cost}\")"
      ],
      "metadata": {
        "colab": {
          "base_uri": "https://localhost:8080/"
        },
        "id": "qz7FCdamnGpe",
        "outputId": "ed04e00b-a8b0-4b0c-c183-1cec8917193c"
      },
      "execution_count": null,
      "outputs": [
        {
          "output_type": "stream",
          "name": "stdout",
          "text": [
            "Por favor, forneça o valor do produto com os centavos. 25.56\n",
            "O valor de seu produto, já descontada a taxa de 12%, é de 22.4928\n"
          ]
        }
      ]
    },
    {
      "cell_type": "markdown",
      "source": [
        "38 - Leia o salário de um funcionário. Calcule e imprima o valor do novo salário, sabendo que ele teve um aumento de 25%."
      ],
      "metadata": {
        "id": "RARerj4qnbBr"
      }
    },
    {
      "cell_type": "code",
      "source": [
        "stipend = float(input(\"Qual é o valor do salário? \"))\n",
        "print(f\"Considerando o aumento dado de 25%, o atual salário fica em {1.25 * stipend}\")"
      ],
      "metadata": {
        "colab": {
          "base_uri": "https://localhost:8080/"
        },
        "id": "ggEr9QrhnmhE",
        "outputId": "fd602fd7-11e6-45e8-8592-617fee2da6a7"
      },
      "execution_count": null,
      "outputs": [
        {
          "output_type": "stream",
          "name": "stdout",
          "text": [
            "Qual é o valor do salário? 5421\n",
            "Considerando o aumento dado de 25%, o atual salário fica em 6776.25\n"
          ]
        }
      ]
    },
    {
      "cell_type": "markdown",
      "source": [
        "39 - A importância de R$780,000.00 será dividida entre três ganhadores de um concurso. Sendo que, da quantia total:\n",
        "\n",
        "* O primeiro ganhador receberá 46%\n",
        "* O segundo receberá 32%\n",
        "* O terceiro receberá o restante. \n",
        "\n",
        "Calcule e imprima a quantia ganha por cada um dos ganhadores. "
      ],
      "metadata": {
        "id": "wSFr5ZLwn_7o"
      }
    },
    {
      "cell_type": "code",
      "source": [
        "premio = 780000\n",
        "print(f\"O primeiro ganhador receberá {0.46 * premio}, o segundo ganhará {0.32* premio} e o último ganhará {0.22*premio}.\")"
      ],
      "metadata": {
        "colab": {
          "base_uri": "https://localhost:8080/"
        },
        "id": "n7LaqybyoiX0",
        "outputId": "8cb9c00e-1282-4747-e224-e697fb16486f"
      },
      "execution_count": null,
      "outputs": [
        {
          "output_type": "stream",
          "name": "stdout",
          "text": [
            "O primeiro ganhador receberá 358800.0, o segundo ganhará 249600.0 e o último ganhará 171600.0.\n"
          ]
        }
      ]
    },
    {
      "cell_type": "markdown",
      "source": [
        "40 - Uma empresa contrata um encanador a R$30.00 por dia. Faça um programa que solicite o número de dias trabalhados pelo encanador e imprima a quantia líquida que deverá ser paga, sabendo-se que são descontados 8% para imposto de renda. "
      ],
      "metadata": {
        "id": "jvXcSqQCo3t7"
      }
    },
    {
      "cell_type": "code",
      "source": [
        "days_one = int(input(\"Por favor, informe o número de dias trabalhados pelo encanador. \"))\n",
        "print(f\"O valor do salário a ser pago ao funcionário corresponde a {days_one * 30 * 0.92}\")"
      ],
      "metadata": {
        "colab": {
          "base_uri": "https://localhost:8080/"
        },
        "id": "nE-MBI26pPor",
        "outputId": "3f023a41-7c4d-4af2-d3c7-7221fc1a7389"
      },
      "execution_count": null,
      "outputs": [
        {
          "output_type": "stream",
          "name": "stdout",
          "text": [
            "Por favor, informe o número de dias trabalhados pelo encanador. 54\n",
            "O valor do salário a ser pago ao funcionário corresponde a 1490.4\n"
          ]
        }
      ]
    },
    {
      "cell_type": "markdown",
      "source": [
        "41 - Faça um programa que leia o valor da hora de trabalho (em reais) e número de horas trabalhadas por mês. Imprima o valor a ser pago ao funcionário, adicionando 10% sobre o valor calculado. "
      ],
      "metadata": {
        "id": "-3lVRbrBprCl"
      }
    },
    {
      "cell_type": "code",
      "source": [
        "hours = int(input(\"Por favor, informe o número de horas trabalhadas. \"))\n",
        "hours_value = float(input(\"Por favor, informe o valor da hora de trabalho, em reais. \"))\n",
        "print(f\"No final, o valor a ser pago é de {1.10 * hours * hours_value}\")"
      ],
      "metadata": {
        "colab": {
          "base_uri": "https://localhost:8080/"
        },
        "id": "pHUH7QDQp7pz",
        "outputId": "ca7dbbb7-9d76-4441-be6a-f65ef0441da1"
      },
      "execution_count": null,
      "outputs": [
        {
          "output_type": "stream",
          "name": "stdout",
          "text": [
            "Por favor, informe o número de horas trabalhadas. 25\n",
            "Por favor, informe o valor da hora de trabalho, em reais. 56.6\n",
            "No final, o valor a ser pago é de 1556.5000000000002\n"
          ]
        }
      ]
    },
    {
      "cell_type": "markdown",
      "source": [
        "42 - Receba o salário-base de um funcionário. Calcule e imprima o salário a receber, sabendo-se que esse funcionário tem uma gratificação de 5% sobre o salário-base. Além disso, ele paga 7% de imposto sobre o salário-base. "
      ],
      "metadata": {
        "id": "VfD_eDslzK_A"
      }
    },
    {
      "cell_type": "code",
      "source": [
        "salario_base = float(input(\"Por favor, digite o salário-base do funcionário. \"))\n",
        "print(f\"O valor a receber, por esse salário-base, corresponde a {1.05 * 0.93 * salario_base}\")"
      ],
      "metadata": {
        "colab": {
          "base_uri": "https://localhost:8080/"
        },
        "id": "9VUScAgGziiA",
        "outputId": "33eb06aa-3231-42f0-ee11-b558fb3d7e7a"
      },
      "execution_count": null,
      "outputs": [
        {
          "output_type": "stream",
          "name": "stdout",
          "text": [
            "Por favor, digite o salário-base do funcionário. 5248\n",
            "O valor a receber, por esse salário-base, corresponde a 5124.6720000000005\n"
          ]
        }
      ]
    },
    {
      "cell_type": "markdown",
      "source": [
        "43 - Escreva um programa de ajuda para vendedores. A partir de um valor total lido, mostre:\n",
        "\n",
        "* o total a pagar com desconto de 10%\n",
        "* o valor de cada parcela, no parcelamento de 3X sem juros. \n",
        "* a comissão do vendedor, no caso da venda ser parcelada (5% sobre o valor total)."
      ],
      "metadata": {
        "id": "vMFw4migz7MR"
      }
    },
    {
      "cell_type": "code",
      "source": [
        "valortotal_one = float(input(\"Por favor, entre com o valor total de compra. \"))\n",
        "print(f\"Considerando tal valor total, podemos afirmar que: \\n- o total a pagar com 10% de desconto é {0.9 * valortotal_one}. \\n- Pode-se dividir o valor em 3 parcelas de {valortotal_one / 3}, sem juros. \\n- A comissão do vendedor será de {0.05 * valortotal_one}. \")"
      ],
      "metadata": {
        "colab": {
          "base_uri": "https://localhost:8080/"
        },
        "id": "ACtudms70aBY",
        "outputId": "e2d98130-1fe5-432a-cd0c-24eea9fb1972"
      },
      "execution_count": null,
      "outputs": [
        {
          "output_type": "stream",
          "name": "stdout",
          "text": [
            "Por favor, entre com o valor total de compra. 100\n",
            "Considerando tal valor total, podemos afirmar que: \n",
            "- o total a pagar com 10% de desconto é 90.0. \n",
            "- Pode-se dividir o valor em 3 parcelas de 33.333333333333336, sem juros. \n",
            "- A comissão do vendedor será de 5.0. \n"
          ]
        }
      ]
    },
    {
      "cell_type": "markdown",
      "source": [
        "44 - Receba a altura do degrau de uma escada e a altura que o usuário deseja alcançar subindo a escada. Calcule e mostre quantos degraus o usuário deverá subir para atingir seu objetivo. "
      ],
      "metadata": {
        "id": "14C0VlR81ikL"
      }
    },
    {
      "cell_type": "code",
      "source": [
        "height_degrau = float(input(\"Por favor, entre com a altura do degrau em metros. \"))\n",
        "height_people = float(input(\"Por favor, entre com a altura que a pessoa deseja alcançar, em metros. \"))\n",
        "print(f\"Nesse caso, é possível aferir que a pessoa deverá subir {height_people / height_degrau} degraus para que possa concretizar o seu objetivo. \")"
      ],
      "metadata": {
        "colab": {
          "base_uri": "https://localhost:8080/"
        },
        "id": "a0nQAfkw1zXn",
        "outputId": "ab3292de-cc2c-431b-bee4-1b5ccd57ebf0"
      },
      "execution_count": null,
      "outputs": [
        {
          "output_type": "stream",
          "name": "stdout",
          "text": [
            "Por favor, entre com a altura do degrau em metros. 0.12\n",
            "Por favor, entre com a altura que a pessoa deseja alcançar, em metros. 5\n",
            "Nesse caso, é possível aferir que a pessoa deverá subir 41.66666666666667 degraus para que possa concretizar o seu objetivo. \n"
          ]
        }
      ]
    },
    {
      "cell_type": "markdown",
      "source": [
        "45 - Faça um programa para converter uma letra maiúscula em minúscula. Use a tabela ASCII para resolver o problema. "
      ],
      "metadata": {
        "id": "mQU8fHpx2U7L"
      }
    },
    {
      "cell_type": "code",
      "source": [
        "\"a\" > \"J\"\n",
        "ord(\"a\")"
      ],
      "metadata": {
        "id": "VbDCjto45L6X",
        "colab": {
          "base_uri": "https://localhost:8080/"
        },
        "outputId": "4339048d-51cc-4d36-bf3c-323bd440349f"
      },
      "execution_count": 2,
      "outputs": [
        {
          "output_type": "execute_result",
          "data": {
            "text/plain": [
              "97"
            ]
          },
          "metadata": {},
          "execution_count": 2
        }
      ]
    },
    {
      "cell_type": "code",
      "source": [
        "letra_maiuscula = str(input(\"Por favor, digite a letra maiúscula que desejar. \"))\n",
        "numero_maiuscula = ord(letra_maiuscula)\n",
        "print(f\"A letra minúsculo correspondente é {chr(numero_maiuscula + 32)}\")"
      ],
      "metadata": {
        "colab": {
          "base_uri": "https://localhost:8080/"
        },
        "id": "b9UKMY5ERjfR",
        "outputId": "5b829547-fd2c-47ed-f2b3-9569333c191e"
      },
      "execution_count": 7,
      "outputs": [
        {
          "output_type": "stream",
          "name": "stdout",
          "text": [
            "Por favor, digite a letra maiúscula que desejar. M\n",
            "A letra minúsculo correspondente é m\n"
          ]
        }
      ]
    },
    {
      "cell_type": "markdown",
      "source": [
        "46 - Faça um programa que leia um número inteiro positivo de três dígitos (de 100 a 999). Gere outro número formado pelos dígitos do número lido. "
      ],
      "metadata": {
        "id": "Br3dUaJT7F8B"
      }
    },
    {
      "cell_type": "code",
      "source": [
        "inteiro_11 = int(input(\"Por favor, entre com um número inteiro de três dígitos. \"))\n",
        "inteiro_12 = int(inteiro_11 / 100)\n",
        "inteiro_13 = int((inteiro_11 - (inteiro_12 * 100))/10)\n",
        "inteiro_14 = inteiro_11 - inteiro_12 * 100 - inteiro_13 * 10\n",
        "print(\"O número formado pelos dígitos invertidos corresponde a {}\".format(inteiro_14 * 100 + inteiro_13 * 10 + inteiro_12 ))"
      ],
      "metadata": {
        "colab": {
          "base_uri": "https://localhost:8080/"
        },
        "id": "FjddyQ1-7T8y",
        "outputId": "90a36c7e-59d3-4305-8cca-43cf3f55f580"
      },
      "execution_count": null,
      "outputs": [
        {
          "output_type": "stream",
          "name": "stdout",
          "text": [
            "Por favor, entre com um número inteiro de três dígitos. 164\n",
            "O número formado pelos dígitos invertidos corresponde a 461\n"
          ]
        }
      ]
    },
    {
      "cell_type": "markdown",
      "source": [
        "47 - Leia um número inteiro de 4 dígitos (de 1000 a 9999)e imprima 1 dígito por linha."
      ],
      "metadata": {
        "id": "xa5k5ap14dG7"
      }
    },
    {
      "cell_type": "code",
      "source": [
        "inteiro_4 = int(input(\"Por favor, entre com um número inteiro de quatro dígitos. \"))\n",
        "inteiro_5 = int(inteiro_4 / 1000)\n",
        "inteiro_6 = inteiro_4 - inteiro_5 * 1000\n",
        "inteiro_7 = int(inteiro_6 / 100)\n",
        "inteiro_8 = inteiro_4 - (inteiro_5 * 1000) - (inteiro_7 *100)\n",
        "inteiro_9 = int(inteiro_8 / 10)\n",
        "inteiro_10 = inteiro_4 - (inteiro_5 * 1000) - (inteiro_7 * 100) - (inteiro_9 * 10)\n",
        "print(\" {} \\n {} \\n {} \\n {}\".format(inteiro_5, inteiro_7, inteiro_9, inteiro_10))\n"
      ],
      "metadata": {
        "colab": {
          "base_uri": "https://localhost:8080/"
        },
        "id": "6WlF_Yim4mJ9",
        "outputId": "d79c8208-f528-4864-d218-eed67fcc6610"
      },
      "execution_count": null,
      "outputs": [
        {
          "output_type": "stream",
          "name": "stdout",
          "text": [
            "Por favor, entre com um número inteiro de quatro dígitos. 8746\n",
            " 8 \n",
            " 7 \n",
            " 4 \n",
            " 6\n"
          ]
        }
      ]
    },
    {
      "cell_type": "markdown",
      "source": [
        "48 - Leia um número inteiro em segundos, e imprima-o em horas, minutos e segundos. "
      ],
      "metadata": {
        "id": "O8JXmV0f_npy"
      }
    },
    {
      "cell_type": "code",
      "source": [
        "inteiro_15 = int(input(\"Por favor, entre com o número inteiro, em segundos. \"))\n",
        "horas = int(inteiro_15 / 3600)\n",
        "minutos = int((inteiro_15 - horas *3600)/60)\n",
        "segundos = inteiro_15 - horas * 3600 - minutos * 60\n",
        "print(\"O número de segundos corresponde a {} horas, {} minutos e {} segundos. \".format(horas, minutos, segundos))\n"
      ],
      "metadata": {
        "colab": {
          "base_uri": "https://localhost:8080/"
        },
        "id": "5VPKq8sq_vUx",
        "outputId": "902bcee2-b513-4ee0-8dc1-8471f9533746"
      },
      "execution_count": null,
      "outputs": [
        {
          "output_type": "stream",
          "name": "stdout",
          "text": [
            "Por favor, entre com o número inteiro, em segundos. 5447412\n",
            "O número de segundos corresponde a 1513 horas, 10 minutos e 12 segundos. \n"
          ]
        }
      ]
    },
    {
      "cell_type": "markdown",
      "source": [
        "49 - Faça um programa que leia o horário (hora, minuto e segundo) de início e a duração, em segundos, de uma experiância biológica. O programa deve resultar em um novo horário (hora, minuto e segundo) do término da mesma. "
      ],
      "metadata": {
        "id": "FfQT6LrEYT65"
      }
    },
    {
      "cell_type": "code",
      "source": [
        "horas_int = int(input(\"Por favor, forneça a hora em que a experiência começou.\"))\n",
        "minutos_int = int(input(\"Por favor, forneça os minutos em que a experiência começou.\"))\n",
        "segundos_int = int(input(\"Por favor, forneça os segundos em que a experiência começou.\"))\n",
        "segundos_inicial = horas_int * 3600 + minutos_int * 60 + segundos_int\n",
        "duracao = int(input(\"Agora forneça, em segundos, o tempo de duranção do experimento. \"))\n",
        "segundos_final = segundos_inicial + duracao\n",
        "horas_int2 = int(segundos_final / 3600)\n",
        "minutos_int2 = int((segundos_final - horas_int2 *3600)/60)\n",
        "segundos_int2 = segundos_final - horas_int2 * 3600 - minutos_int2 * 60\n",
        "print(\"O horário final foi em {} horas, {} minutos e {} segundos.\".format(horas_int2, minutos_int2, segundos_int2))\n"
      ],
      "metadata": {
        "colab": {
          "base_uri": "https://localhost:8080/"
        },
        "id": "g5gZyGLr3IY-",
        "outputId": "7b55cd69-20ca-4986-d4a2-f8a757e0b36e"
      },
      "execution_count": null,
      "outputs": [
        {
          "output_type": "stream",
          "name": "stdout",
          "text": [
            "Por favor, forneça a hora em que a experiência começou.14\n",
            "Por favor, forneça os minutos em que a experiência começou.32\n",
            "Por favor, forneça os segundos em que a experiência começou.27\n",
            "Agora forneça, em segundos, o tempo de duranção do experimento. 5698\n",
            "O horário final foi em 16 horas, 7 minutos e 25 segundos.\n"
          ]
        }
      ]
    },
    {
      "cell_type": "markdown",
      "source": [
        "50 - Implemente um programa que calcule o ano de nascimento de uma pessoa a partir de sua idade e do ano atual. "
      ],
      "metadata": {
        "id": "i-ksIE3R5Wu1"
      }
    },
    {
      "cell_type": "code",
      "source": [
        "idade = int(input(\"Por favor, informe a sua idade. \"))\n",
        "ano_atual = int(input(\"Qual é o ano atual? \"))\n",
        "nascimento = ano_atual - idade \n",
        "print(f\"Você nasceu em {nascimento}.\")"
      ],
      "metadata": {
        "colab": {
          "base_uri": "https://localhost:8080/"
        },
        "id": "E6YlGswt5kNk",
        "outputId": "e1a3e90a-d273-4770-e19b-beebec94c99d"
      },
      "execution_count": null,
      "outputs": [
        {
          "output_type": "stream",
          "name": "stdout",
          "text": [
            "Por favor, informe a sua idade. 28\n",
            "Qual é o ano atual? 2022\n",
            "Você nasceu em 1994.\n"
          ]
        }
      ]
    },
    {
      "cell_type": "markdown",
      "source": [
        "51 - Escreva um programa que leia as coordenadas X e Y de pontos no R² e calcule sua distância da origem (0,0)."
      ],
      "metadata": {
        "id": "iGWLsQng6Xbo"
      }
    },
    {
      "cell_type": "code",
      "source": [
        "import math\n",
        "coord_x = float(input(\"Por favor, forneça a coordenada X do ponto. \"))\n",
        "coord_y = float(input(\"Por favor, forneça a coordenada Y do ponto. \"))\n",
        "distancia_ponto = math.sqrt(math.pow(coord_x, 2) + math.pow(coord_y, 2))\n",
        "print(f\"A distância da origem (0,0) até o ponto, no R², é de {distancia_ponto}.\")"
      ],
      "metadata": {
        "colab": {
          "base_uri": "https://localhost:8080/"
        },
        "id": "aD7_RGMt6gzt",
        "outputId": "32599f13-bdeb-4bee-934a-e67db6ad5fbb"
      },
      "execution_count": null,
      "outputs": [
        {
          "output_type": "stream",
          "name": "stdout",
          "text": [
            "Por favor, forneça a coordenada X do ponto. 3\n",
            "Por favor, forneça a coordenada Y do ponto. 4\n",
            "A distância da origem (0,0) até o ponto, no R², é de 5.0.\n"
          ]
        }
      ]
    },
    {
      "cell_type": "markdown",
      "source": [
        "52 - Três amigos jogaram na loteria. Caso eles ganhem, o prêmio deve ser repartido proporcionalmente ao valor que cada um deu para a realização da aposta. Faça um programa que leia quanto cada apostador investiu, o valor do prêmio, e imprima quanto cada um ganharia do prêmio com base no valor investido. "
      ],
      "metadata": {
        "id": "Lwt_giBT7M6e"
      }
    },
    {
      "cell_type": "code",
      "source": [
        "apostador_1 = float(input(\"Quanto o apostador 1 investiu?\"))\n",
        "apostador_2 = float(input(\"Quanto o apostador 2 investiu?\"))\n",
        "apostador_3 = float(input(\"Quanto o apostador 3 investiu?\"))\n",
        "premio_valor = float(input(\"Entre com o valor do prêmio. \"))\n",
        "premio_1 = (apostador_1 * premio_valor)/(apostador_1 + apostador_2 + apostador_3)\n",
        "premio_2 = (apostador_2 * premio_valor)/(apostador_1 + apostador_2 + apostador_3)\n",
        "premio_3 = (apostador_3 * premio_valor)/(apostador_1 + apostador_2 + apostador_3)\n",
        "print(f\"Nesse caso, o apostador 1 ganhará {premio_1}, o apostador 2 ganhará {premio_2} e o apostador 3 ganhará {premio_3}.\")"
      ],
      "metadata": {
        "colab": {
          "base_uri": "https://localhost:8080/"
        },
        "id": "5k2y5tR57uLt",
        "outputId": "1b908ed2-81fc-479c-b507-534a92816f7f"
      },
      "execution_count": null,
      "outputs": [
        {
          "output_type": "stream",
          "name": "stdout",
          "text": [
            "Quanto o apostador 1 investiu?120\n",
            "Quanto o apostador 2 investiu?210\n",
            "Quanto o apostador 3 investiu?1568\n",
            "Entre com o valor do prêmio. 500000\n",
            "Nesse caso, o apostador 1 ganhará 31612.22339304531, o apostador 2 ganhará 55321.390937829296 e o apostador 3 ganhará 413066.3856691254.\n"
          ]
        }
      ]
    },
    {
      "cell_type": "markdown",
      "source": [
        "53 - Faça um programa para ler as dimensões de um terreno (comprimento c e largura l), bem como o preço do metro de tela p . Imprima o custo para cercar este mesmo terreno com tela. "
      ],
      "metadata": {
        "id": "DLlsCDNR9C7F"
      }
    },
    {
      "cell_type": "code",
      "source": [
        "comprimento = float(input(\"Por favor, forneça o valor do comprimento do terreno, em metros. \"))\n",
        "largura = float(input(\"Por favor, forneça o valor da largura do terreno, em metros. \"))\n",
        "perimetro = 2 * (comprimento + largura)\n",
        "preco_metro = float(input(\"Por favor, forneça o preço da tela por cada metro. \"))\n",
        "custo = perimetro * preco_metro \n",
        "print(f\"O custo será de {custo} \")\n"
      ],
      "metadata": {
        "colab": {
          "base_uri": "https://localhost:8080/"
        },
        "id": "BH5ZnBjG9gPG",
        "outputId": "3140c37e-7611-47bf-b5f0-b8d0f08d2fab"
      },
      "execution_count": null,
      "outputs": [
        {
          "output_type": "stream",
          "name": "stdout",
          "text": [
            "Por favor, forneça o valor do comprimento do terreno, em metros. 20\n",
            "Por favor, forneça o valor da largura do terreno, em metros. 10\n",
            "Por favor, forneça o preço da tela por cada metro. 60\n",
            "O custo será de 3600.0 \n"
          ]
        }
      ]
    }
  ]
}