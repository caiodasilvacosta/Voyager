{
  "nbformat": 4,
  "nbformat_minor": 0,
  "metadata": {
    "colab": {
      "name": "lista2.pynb",
      "provenance": [],
      "collapsed_sections": [],
      "authorship_tag": "ABX9TyP647lhp7FwDiZDrYEIvYF0",
      "include_colab_link": true
    },
    "kernelspec": {
      "name": "python3",
      "display_name": "Python 3"
    },
    "language_info": {
      "name": "python"
    }
  },
  "cells": [
    {
      "cell_type": "markdown",
      "metadata": {
        "id": "view-in-github",
        "colab_type": "text"
      },
      "source": [
        "<a href=\"https://colab.research.google.com/github/caiodasilvacosta/Voyager/blob/main/lista2_pynb.ipynb\" target=\"_parent\"><img src=\"https://colab.research.google.com/assets/colab-badge.svg\" alt=\"Open In Colab\"/></a>"
      ]
    },
    {
      "cell_type": "markdown",
      "metadata": {
        "id": "YLcFlu6hfvT5"
      },
      "source": [
        "\n",
        "\n",
        "\n",
        "Atividade 01 - Faça um programa que leia um número inteiro e o imprima.\n"
      ]
    },
    {
      "cell_type": "code",
      "metadata": {
        "colab": {
          "base_uri": "https://localhost:8080/"
        },
        "id": "a9AkZMOTf7g5",
        "outputId": "15320cfe-fda6-41cd-e017-a79ee4683ee6"
      },
      "source": [
        "numero = 20\n",
        "print (numero)"
      ],
      "execution_count": null,
      "outputs": [
        {
          "output_type": "stream",
          "text": [
            "20\n"
          ],
          "name": "stdout"
        }
      ]
    },
    {
      "cell_type": "markdown",
      "metadata": {
        "id": "oJFymmLfkUjQ"
      },
      "source": [
        "Activity 01: Faça um programa que receba dois números e mostre qual deles é o maior."
      ]
    },
    {
      "cell_type": "code",
      "metadata": {
        "colab": {
          "base_uri": "https://localhost:8080/"
        },
        "id": "iYrcG2N1qygh",
        "outputId": "45cff9ac-418d-4f38-da37-aafd7aaba8dd"
      },
      "source": [
        "first_number = int(input(\"Please, provide the first number: \"))\n",
        "second_number = int(input(\"Please, provide the second number: \"))"
      ],
      "execution_count": null,
      "outputs": [
        {
          "output_type": "stream",
          "text": [
            "Please, provide the first number: 10\n",
            "Please, provide the second number: 2\n"
          ],
          "name": "stdout"
        }
      ]
    },
    {
      "cell_type": "code",
      "metadata": {
        "colab": {
          "base_uri": "https://localhost:8080/"
        },
        "id": "6f50DUB5rIfo",
        "outputId": "4a69fa0a-5085-42ad-b3da-dfddaa45c335"
      },
      "source": [
        "if first_number > second_number:\n",
        "  print(f\"The number {first_number} is bigger!\")\n",
        "elif second_number > first_number:\n",
        "  print(\"The number {} is bigger!\".format(second_number))\n",
        "else:\n",
        "  print(\"The numbers are equal! Try again :)\")   "
      ],
      "execution_count": null,
      "outputs": [
        {
          "output_type": "stream",
          "text": [
            "The number 10 is bigger!\n"
          ],
          "name": "stdout"
        }
      ]
    },
    {
      "cell_type": "markdown",
      "metadata": {
        "id": "9iy9GOsyuTjY"
      },
      "source": [
        "Activity 02: Leia um número fornecido pelo usuário. Se esse número for positivo, calcule a raíz quadrada do número. Se ele for negativo, mostre uma mensagem dizendo que é inválido. \n"
      ]
    },
    {
      "cell_type": "code",
      "metadata": {
        "colab": {
          "base_uri": "https://localhost:8080/"
        },
        "id": "h3y60cAju7T5",
        "outputId": "d1035564-65bb-4189-9c9f-0794da779806"
      },
      "source": [
        "import math\n",
        "\n",
        "third_number = float(input(\"Please, provide another number. \"))\n",
        "if third_number >= 0:\n",
        "  print(\"The square root of this number is\", math.sqrt(third_number))\n",
        "  print(f\"The square root of this number is {math.sqrt(third_number)}\")\n",
        "  print(\"The square root of this number is {}\".format(math.sqrt(third_number)))\n",
        "else:\n",
        "  print(\"Invalid number. Please, try another one.\")  \n"
      ],
      "execution_count": null,
      "outputs": [
        {
          "output_type": "stream",
          "text": [
            "Please, provide another number. 56\n",
            "The square root of this number is 7.483314773547883\n",
            "The square root of this number is 7.483314773547883\n",
            "The square root of this number is 7.483314773547883\n"
          ],
          "name": "stdout"
        }
      ]
    },
    {
      "cell_type": "markdown",
      "metadata": {
        "id": "t3KVJMe1w2JB"
      },
      "source": [
        "Activity 03: Leia um número real. Se o número for positivo, imprima a raíz quadrada. Do contrário, imprima o número ao quadrado. "
      ]
    },
    {
      "cell_type": "code",
      "metadata": {
        "colab": {
          "base_uri": "https://localhost:8080/"
        },
        "id": "wl2GMmJUxRRw",
        "outputId": "58b8ab55-a064-4a3e-b118-369282307201"
      },
      "source": [
        "forth_number = float(input(\"Please, provide another number. \"))\n",
        "if forth_number >= 0:\n",
        "  print(\"The square root of this number is \", math.sqrt(forth_number))\n",
        "else:\n",
        "  print(\"The square of this number is \", math.pow(forth_number, 2))\n",
        "  print(f\"The square of this number is {forth_number ** 2}\")\n",
        "  \n"
      ],
      "execution_count": null,
      "outputs": [
        {
          "output_type": "stream",
          "text": [
            "Please, provide another number. -5\n",
            "The square of this number is  25.0\n",
            "The square of this number is 25.0\n"
          ],
          "name": "stdout"
        }
      ]
    },
    {
      "cell_type": "markdown",
      "metadata": {
        "id": "avi_GZV20dPh"
      },
      "source": [
        "Activity 04: Faça um programa que receba um número inteiro e verifique se este número é par ou ímpar."
      ]
    },
    {
      "cell_type": "code",
      "metadata": {
        "colab": {
          "base_uri": "https://localhost:8080/"
        },
        "id": "g9tUYcbv0lpD",
        "outputId": "a9123d02-85a2-4b25-de46-a8f8d552af83"
      },
      "source": [
        "sixth_number = int(input(\"Please, provide an integer. \"))\n",
        "if sixth_number %2 == 0:\n",
        "  print(\"This is an even number!\")\n",
        "else:\n",
        "  print(\"This is an odd number!\") \n",
        "   "
      ],
      "execution_count": null,
      "outputs": [
        {
          "output_type": "stream",
          "text": [
            "Please, provide an integer. 5263356\n",
            "This is an even number!\n"
          ],
          "name": "stdout"
        }
      ]
    },
    {
      "cell_type": "markdown",
      "metadata": {
        "id": "CQ0auUbm3ihn"
      },
      "source": [
        "Activity 06: Leia o salário de um trabalhador e o valor da prestação de um empréstimo. Se a prestação for maior do que 20% do salário, imprima: \"Empréstimo não concedido\". Caso contrário, imprima \"Empréstimo concedido\"."
      ]
    },
    {
      "cell_type": "code",
      "metadata": {
        "colab": {
          "base_uri": "https://localhost:8080/"
        },
        "id": "wDXKEheZ5RDK",
        "outputId": "dbbdd937-a245-4b80-dc46-06edbc8a1f22"
      },
      "source": [
        "stipend = float(input(\"Please, provide the value of your salary. \"))\n",
        "tax = float(input(\"What is your loan's monthly quantity? \"))\n",
        "\n",
        "if tax > (0.2*stipend):\n",
        "  print(\"Empréstimo não concedido. Sorry.\")\n",
        "else:\n",
        "  print(\"Empréstimo concedido. Yey!\")\n",
        "\n"
      ],
      "execution_count": null,
      "outputs": [
        {
          "output_type": "stream",
          "text": [
            "Please, provide the value of your salary. 2000\n",
            "What is your loan's monthly quantity? 500\n",
            "Empréstimo não concedido. Sorry.\n"
          ],
          "name": "stdout"
        }
      ]
    },
    {
      "cell_type": "markdown",
      "metadata": {
        "id": "F-cFV84m8NQC"
      },
      "source": [
        "Activity 07: Leia o salário de um trabalhador e o percentual de imposto pago em folha. Se o valor for maior que 200,00, imprima: \"Acima de 200,00\". Caso contrário, imprima: \"Abaixo de 200,00\"."
      ]
    },
    {
      "cell_type": "code",
      "metadata": {
        "colab": {
          "base_uri": "https://localhost:8080/"
        },
        "id": "3e8XGLwu81_F",
        "outputId": "1db5482f-e328-4169-a7c5-1360244f1334"
      },
      "source": [
        "second_stipend = float(input(\"What is your monthly income? \"))\n",
        "percentual = float(input(\"What is the percentual of taxes in your salary? \"))\n",
        "if (second_stipend * percentual / 100) >= 200:\n",
        "  print(\"Acima de R$ 200,00.\")\n",
        "else: \n",
        "  print(\"Abaixo de R$200,00.\")  "
      ],
      "execution_count": null,
      "outputs": [
        {
          "output_type": "stream",
          "text": [
            "What is your monthly income? 2000\n",
            "What is the percentual of taxes in your salary? 250\n",
            "Acima de R$ 200,00.\n"
          ],
          "name": "stdout"
        }
      ]
    },
    {
      "cell_type": "markdown",
      "metadata": {
        "id": "tHx8KAE5-z9U"
      },
      "source": [
        "Activity 08: Leia um número inteiro. Se o número lido for negativo, escreva a mensagem \"número inválido\". Se o número for positivo, calcular o logaritmo desse número."
      ]
    },
    {
      "cell_type": "code",
      "metadata": {
        "colab": {
          "base_uri": "https://localhost:8080/"
        },
        "id": "kW2nkEhY_RwA",
        "outputId": "4436bbae-93a0-4f32-b140-e4a5ba64e734"
      },
      "source": [
        "seventh_number = int(input(\"Please, provide an integer. \"))\n",
        "if seventh_number < 0: \n",
        "  print(\"Número inválido!\")\n",
        "else: \n",
        "  print(\"The logarithm of the number is \", math.log(seventh_number)) \n"
      ],
      "execution_count": null,
      "outputs": [
        {
          "output_type": "stream",
          "text": [
            "Please, provide an integer. 45\n",
            "The logarithm of the number is  3.8066624897703196\n"
          ],
          "name": "stdout"
        }
      ]
    },
    {
      "cell_type": "markdown",
      "metadata": {
        "id": "0zJ7cNwlBR4Z"
      },
      "source": [
        "Activity 09: Faça um programa que leia duas notas de um aluno, verifique se as notas são válidas e exiba na tela a média dessas notas. Uma nota deve ser obrigatoriamente entre 0.0 e 10.0 e, caso a nota não possua um valor válido, isso deve ser informado ao usuário e o programa termina.  "
      ]
    },
    {
      "cell_type": "code",
      "metadata": {
        "colab": {
          "base_uri": "https://localhost:8080/"
        },
        "id": "5z8wf4cRB2st",
        "outputId": "4230f704-f4ab-4722-df96-97eb9f928cc7"
      },
      "source": [
        "first_grade = float(input(\"Please, inform your first grade. \"))\n",
        "second_grade = float(input(\"Please, provide your second grade. \"))\n",
        "average = (first_grade + second_grade)/2\n",
        "if 0 <= first_grade and first_grade <= 10.0 and second_grade >= 0 and second_grade <= 10.0:\n",
        "  print(\"The average of the two grades is {}\".format(average))\n",
        "else:\n",
        "  print(\"One of the grades you've written (or both of them) is not valid.\")  "
      ],
      "execution_count": null,
      "outputs": [
        {
          "output_type": "stream",
          "text": [
            "Please, inform your first grade. 20.0\n",
            "Please, provide your second grade. -20.0\n",
            "One of the grades you've written (or both of them) is not valid.\n"
          ],
          "name": "stdout"
        }
      ]
    },
    {
      "cell_type": "markdown",
      "metadata": {
        "id": "RRpiurMaKg7h"
      },
      "source": [
        "Activity 10: Faça um algoritmo que calcule a média ponderada das notas de três provas. A primeira e a segunda prova têm peso 1 e a terceira tem peso 2. Ao final, mostrar a média do aluno e indicar se ele foi aprovado ou reprovado. A nota para a aprovação deve ser igual ou superior a 60.0 pontos."
      ]
    },
    {
      "cell_type": "code",
      "metadata": {
        "colab": {
          "base_uri": "https://localhost:8080/"
        },
        "id": "M2V3HBToK64f",
        "outputId": "af73ac19-b531-4a43-9a93-4341fb1a077b"
      },
      "source": [
        "one_grade = float(input(\"Please, provide your first grade: \"))\n",
        "two_grade = float(input(\"Please, provide the second grade: \"))\n",
        "three_grade = float(input(\"Please, provide the third grade: \"))\n",
        "pond_average = (one_grade + two_grade + three_grade * 2) / 4\n",
        "if pond_average > 6.0:\n",
        "  print(f\"Your average is {pond_average}. You are approved! Congrats.\")\n",
        "else:\n",
        "  print(f\"Your average is {pond_average}. I'm sorry but you're not approved!\")  "
      ],
      "execution_count": null,
      "outputs": [
        {
          "output_type": "stream",
          "text": [
            "Please, provide your first grade: 5.1\n",
            "Please, provide the second grade: 5.8\n",
            "Please, provide the third grade: 6.7\n",
            "Your average is 6.074999999999999. You are approved! Congrats.\n"
          ],
          "name": "stdout"
        }
      ]
    },
    {
      "cell_type": "markdown",
      "metadata": {
        "id": "nFUGGCG-Mqfg"
      },
      "source": [
        "Activity 11: Faça um algoritmo que leia dois números e exiba-os em ordem crescente."
      ]
    },
    {
      "cell_type": "code",
      "metadata": {
        "colab": {
          "base_uri": "https://localhost:8080/"
        },
        "id": "tRlzX06xMrVj",
        "outputId": "166373ff-93df-48ee-e10f-e3dbf8f175c0"
      },
      "source": [
        "eighth_number = float(input(\"Please, provide the first number: \"))\n",
        "ninth_number = float(input(\"Please, provide the second number: \"))\n",
        "if eighth_number >= ninth_number:\n",
        "  print(f\"The list in ascending order is [{ninth_number}, {eighth_number}].\")\n",
        "else:\n",
        "  print(f\"The list in ascending order is [{eighth_number}, {ninth_number}]\")  "
      ],
      "execution_count": null,
      "outputs": [
        {
          "output_type": "stream",
          "text": [
            "Please, provide the first number: 6.7\n",
            "Please, provide the second number: 6.0\n",
            "The list in ascending order is [6.0, 6.7].\n"
          ],
          "name": "stdout"
        }
      ]
    },
    {
      "cell_type": "markdown",
      "metadata": {
        "id": "ixhETcYQNsPv"
      },
      "source": [
        "Activity 12: Escreva um algoritmo que leia dois números e exiba os seus sucessores. "
      ]
    },
    {
      "cell_type": "code",
      "metadata": {
        "colab": {
          "base_uri": "https://localhost:8080/"
        },
        "id": "jevof1MkN1Bu",
        "outputId": "ac1fec1e-1cdc-45cb-9d6a-14fde9129d64"
      },
      "source": [
        "tenth_number = int(input(\"Please, provide the first number: \"))\n",
        "eleventh_number = int(input(\"Please, provide the second number: \"))\n",
        "print(f\"The first number's successor is {tenth_number + 1} and the second number's successor is {eleventh_number + 1}.\")"
      ],
      "execution_count": null,
      "outputs": [
        {
          "output_type": "stream",
          "text": [
            "Please, provide the first number: 23\n",
            "Please, provide the second number: -9\n",
            "The first number's successor is 24 and the second number's successor is -8.\n"
          ],
          "name": "stdout"
        }
      ]
    },
    {
      "cell_type": "markdown",
      "metadata": {
        "id": "z2qiSDLHOohQ"
      },
      "source": [
        "Activity 13: Elabore um algoritmo que dada a idade de um nadador classifica-o em uma das seguintes categorias: infantil A = 5 - 7 anos, infantil B = 8 - 10 anos, juvenil A = 11 - 13 anos, juvenil B = 14 - 17 anos, adulto = maiores de 18 anos. "
      ]
    },
    {
      "cell_type": "code",
      "metadata": {
        "colab": {
          "base_uri": "https://localhost:8080/"
        },
        "id": "Dj095NhTPpSw",
        "outputId": "be6a5fe1-d493-4a99-978b-ac0c9aec89dd"
      },
      "source": [
        "age = int(input(\"How old are you? \"))\n",
        "if age < 5:\n",
        "  print(\"You're too young to swim!\")\n",
        "elif age >= 5 and age <= 7:\n",
        "  print(\"Your category is Infantil A!\")\n",
        "elif age >=8 and age <=10:\n",
        "  print(\"Your category is Infantil B!\")\n",
        "elif age >= 11 and age <= 13:\n",
        "  print(\"Your category is Juvenil A!\")\n",
        "elif age >= 14 and age <= 17:\n",
        "  print(\"Your category is Juvenil B!\") \n",
        "else:\n",
        "  print(\"Your category is Adult!\")       "
      ],
      "execution_count": null,
      "outputs": [
        {
          "output_type": "stream",
          "text": [
            "How old are you? 9\n",
            "Your category is Infantil B!\n"
          ],
          "name": "stdout"
        }
      ]
    },
    {
      "cell_type": "markdown",
      "metadata": {
        "id": "zCEE8YPCTL-r"
      },
      "source": [
        "Activity 14: Faça um algoritmo que leia os valores A, B e C e imprima na tela se a soma A e B é menor que C."
      ]
    },
    {
      "cell_type": "code",
      "metadata": {
        "colab": {
          "base_uri": "https://localhost:8080/"
        },
        "id": "nWVgQMFdTZJX",
        "outputId": "1c07bad8-4041-4036-cf1c-3c6aa80d438e"
      },
      "source": [
        "a = int(input(\"Please, provide the first number: \"))\n",
        "b = int(input(\"Please, provide the second number: \"))\n",
        "c = int(input(\"Please, provide the third number: \"))\n",
        "if a + b < c:\n",
        "  print(f\"The summation of {a} and {b} is smaller than {c}\")\n",
        "elif a + b == c:\n",
        "  print(f\"The summation of {a} and {b} is equal than {c}\")  \n",
        "else:\n",
        "  print(f\"The summation of {a} and {b} is bigger than {c}\")  "
      ],
      "execution_count": null,
      "outputs": [
        {
          "output_type": "stream",
          "text": [
            "Please, provide the first number: 25\n",
            "Please, provide the second number: 25\n",
            "Please, provide the third number: 50\n",
            "The summation of 25 and 25 is equal than 50\n"
          ],
          "name": "stdout"
        }
      ]
    },
    {
      "cell_type": "markdown",
      "metadata": {
        "id": "L3B39rlqUfxD"
      },
      "source": [
        "Activity 15: Faça um algoritmo que leia uma variável e some 5 caso seja par ou some 8 caso seja ímpar. Imprima o resultado desta operação."
      ]
    },
    {
      "cell_type": "code",
      "metadata": {
        "colab": {
          "base_uri": "https://localhost:8080/"
        },
        "id": "FCfpfI8HU_7h",
        "outputId": "baa358cd-e773-4d1a-cdbb-ccf31891a22d"
      },
      "source": [
        "twelfth_number = int(input(\"Please, provide an integer: \"))\n",
        "if twelfth_number %2 == 0:\n",
        "  print(f\"The number you've written plus 5 is {twelfth_number + 5}\")\n",
        "else:\n",
        "  print(f\"The number you've written plus 8 is {twelfth_number + 8}\")  "
      ],
      "execution_count": null,
      "outputs": [
        {
          "output_type": "stream",
          "text": [
            "Please, provide an integer: 567\n",
            "The number you've written plus 8 is 575\n"
          ],
          "name": "stdout"
        }
      ]
    },
    {
      "cell_type": "markdown",
      "metadata": {
        "id": "NmoEnZakV6l_"
      },
      "source": [
        "Activity 16: Faça um algoritmo que leia uma variável e divida por 10 se estiver no intervalo entre 0 e 100. Caso esteja fora, divida por 2. Imprima o resultado. "
      ]
    },
    {
      "cell_type": "code",
      "metadata": {
        "colab": {
          "base_uri": "https://localhost:8080/"
        },
        "id": "3ZtQzZx1WW0e",
        "outputId": "f8b9fde8-96bc-4058-9dde-fb97a1c29aa7"
      },
      "source": [
        "thirteenth_number = float(input(\"Please, provide an integer: \"))\n",
        "if 0 <= thirteenth_number <= 100:\n",
        "  print(f\"Your number divided by 10 is {thirteenth_number / 10}.\")\n",
        "else:\n",
        "    print(f\"Your number divided by 2 is {thirteenth_number / 2}.\")"
      ],
      "execution_count": null,
      "outputs": [
        {
          "output_type": "stream",
          "text": [
            "Please, provide an integer: 87\n",
            "Your number divided by 10 is 8.7.\n"
          ],
          "name": "stdout"
        }
      ]
    },
    {
      "cell_type": "markdown",
      "metadata": {
        "id": "XU0EbCmCZfAB"
      },
      "source": [
        "Activity 17: Crie um algoritmo que, dado o nível de alerta de risco, imprima se ele for grave. O nível de alerta é um número que varia de 0 a 10. O nível é considerado grave quando ele é superior a 9."
      ]
    },
    {
      "cell_type": "code",
      "metadata": {
        "colab": {
          "base_uri": "https://localhost:8080/"
        },
        "id": "nuhmJzrFaNHm",
        "outputId": "3ac5b1e2-bb69-45ec-efd9-e771f9713091"
      },
      "source": [
        "danger_level = float(input(\"Please, provide the level of danger: \"))\n",
        "if 0 <= danger_level <= 10.0:\n",
        "  if danger_level > 9.0:\n",
        "    print(\"There is an URGENT level of danger!\")\n",
        "  else:\n",
        "    print(\"The level of danger is manageable.\")  \n",
        "else:\n",
        "  print(\"The input for level of danger is not a valid one.\")"
      ],
      "execution_count": null,
      "outputs": [
        {
          "output_type": "stream",
          "text": [
            "Please, provide the level of danger: 11\n",
            "The input for level of danger is not a valid one.\n"
          ],
          "name": "stdout"
        }
      ]
    },
    {
      "cell_type": "markdown",
      "metadata": {
        "id": "kMKT3mIYcBBI"
      },
      "source": [
        "Activity 18: Faça um programa que leia um número e diga se ele é divisível por 2 e por 3. Use estrutura de desvio condicional simples. "
      ]
    },
    {
      "cell_type": "code",
      "metadata": {
        "colab": {
          "base_uri": "https://localhost:8080/"
        },
        "id": "LKPCJtluctD_",
        "outputId": "b43d119c-b3f7-4679-a731-6a4babed3373"
      },
      "source": [
        "fourteenth_number = int(input(\"Please, provide an integer: \"))\n",
        "if fourteenth_number %2 == 0 and fourteenth_number %3 == 0:\n",
        "  print(\"The number you've written is a multiple of 2 AND 3.\")\n",
        "else:\n",
        "  print(\"The number you've written can be multiple of 2 OR 3, but it's not divisible by both of them.\")  "
      ],
      "execution_count": null,
      "outputs": [
        {
          "output_type": "stream",
          "text": [
            "Please, provide an integer: -66\n",
            "The number you've written is a multiple of 2 AND 3.\n"
          ],
          "name": "stdout"
        }
      ]
    },
    {
      "cell_type": "markdown",
      "metadata": {
        "id": "CVZ3yj9xe_QM"
      },
      "source": [
        "Activity 19: Calcule a média aritmética das três notas de um aluno e mostre, além do valor da média, uma mensagem de \"aprovado\" (caso a média seja igual ou superior a 6) ou a mensagem \"reprovado\" caso contrário. "
      ]
    },
    {
      "cell_type": "code",
      "metadata": {
        "colab": {
          "base_uri": "https://localhost:8080/"
        },
        "id": "QZnRlkhzfc6B",
        "outputId": "9431a840-ece5-4b00-8f38-e78970abf22f"
      },
      "source": [
        "grade_one = float(input(\"What is the first grade? \"))\n",
        "grade_two = float(input(\"What is the second grade? \"))\n",
        "grade_three = float(input(\"What is the third grade? \"))\n",
        "grade_average = (grade_one + grade_two + grade_three) / 3\n",
        "if grade_average >= 6.0:\n",
        "  print(f\"Your average is {grade_average} and you were approved! Congratulations :D\")\n",
        "else:\n",
        "  print(f\"Your average is {grade_average} and you didn't pass! I'm sorry :/\")  "
      ],
      "execution_count": null,
      "outputs": [
        {
          "output_type": "stream",
          "text": [
            "What is the first grade? 8.6\n",
            "What is the second grade? 8.3\n",
            "What is the third grade? 3.0\n",
            "Your average is 6.633333333333333 and you were approved! Congratulations :D\n"
          ],
          "name": "stdout"
        }
      ]
    },
    {
      "cell_type": "markdown",
      "metadata": {
        "id": "DNiFV9csiHDI"
      },
      "source": [
        "Activity 20: Leia a distância, em km, e a quantidade de litros de gasolina consumidos por um carro em um percurso. Calcule o consumo em km/l e escreva uma mensagem de acordo com a tabela."
      ]
    },
    {
      "cell_type": "code",
      "metadata": {
        "colab": {
          "base_uri": "https://localhost:8080/"
        },
        "id": "st2ghrtcj1j0",
        "outputId": "2dc817af-f2d0-430b-ee92-9d4b29b6ef18"
      },
      "source": [
        "distance = float(input(\"Please, provide the distance in kilometers: \"))\n",
        "liters = float(input(\"How many liters of gasoline did you use? \"))\n",
        "consumption = distance / liters\n",
        "if consumption < 8:\n",
        "  print(\"Venda o carro!\")\n",
        "elif 8 <= consumption <= 12:\n",
        "  print(\"Econômico!\") \n",
        "else:\n",
        "  print(\"Super econômico!\")   "
      ],
      "execution_count": null,
      "outputs": [
        {
          "output_type": "stream",
          "text": [
            "Please, provide the distance in kilometers: 100\n",
            "How many liters of gasoline did you use? 20\n",
            "Venda o carro!\n"
          ],
          "name": "stdout"
        }
      ]
    }
  ]
}