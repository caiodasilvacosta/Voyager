{
  "nbformat": 4,
  "nbformat_minor": 0,
  "metadata": {
    "colab": {
      "name": "MVlista2ipynb",
      "provenance": [],
      "toc_visible": true,
      "authorship_tag": "ABX9TyPibKFfxo+O6xHC2Y2eci/D",
      "include_colab_link": true
    },
    "kernelspec": {
      "name": "python3",
      "display_name": "Python 3"
    },
    "language_info": {
      "name": "python"
    }
  },
  "cells": [
    {
      "cell_type": "markdown",
      "metadata": {
        "id": "view-in-github",
        "colab_type": "text"
      },
      "source": [
        "<a href=\"https://colab.research.google.com/github/caiodasilvacosta/Voyager/blob/main/MVlista2ipynb.ipynb\" target=\"_parent\"><img src=\"https://colab.research.google.com/assets/colab-badge.svg\" alt=\"Open In Colab\"/></a>"
      ]
    },
    {
      "cell_type": "markdown",
      "metadata": {
        "id": "YLcFlu6hfvT5"
      },
      "source": [
        "Atividade 01 - Faça um programa que leia um número inteiro e o imprima.\n"
      ]
    },
    {
      "cell_type": "code",
      "metadata": {
        "colab": {
          "base_uri": "https://localhost:8080/"
        },
        "id": "a9AkZMOTf7g5",
        "outputId": "15320cfe-fda6-41cd-e017-a79ee4683ee6"
      },
      "source": [
        "numero = 20\n",
        "print (numero)"
      ],
      "execution_count": null,
      "outputs": [
        {
          "output_type": "stream",
          "text": [
            "20\n"
          ],
          "name": "stdout"
        }
      ]
    },
    {
      "cell_type": "markdown",
      "metadata": {
        "id": "oJFymmLfkUjQ"
      },
      "source": [
        "Activity 01: Faça um programa que receba dois números e mostre qual deles é o maior."
      ]
    },
    {
      "cell_type": "code",
      "metadata": {
        "colab": {
          "base_uri": "https://localhost:8080/"
        },
        "id": "iYrcG2N1qygh",
        "outputId": "45cff9ac-418d-4f38-da37-aafd7aaba8dd"
      },
      "source": [
        "first_number = int(input(\"Please, provide the first number: \"))\n",
        "second_number = int(input(\"Please, provide the second number: \"))"
      ],
      "execution_count": 5,
      "outputs": [
        {
          "output_type": "stream",
          "text": [
            "Please, provide the first number: 10\n",
            "Please, provide the second number: 2\n"
          ],
          "name": "stdout"
        }
      ]
    },
    {
      "cell_type": "code",
      "metadata": {
        "colab": {
          "base_uri": "https://localhost:8080/"
        },
        "id": "6f50DUB5rIfo",
        "outputId": "4a69fa0a-5085-42ad-b3da-dfddaa45c335"
      },
      "source": [
        "if first_number > second_number:\n",
        "  print(f\"The number {first_number} is bigger!\")\n",
        "elif second_number > first_number:\n",
        "  print(\"The number {} is bigger!\".format(second_number))\n",
        "else:\n",
        "  print(\"The numbers are equal! Try again :)\")   "
      ],
      "execution_count": 6,
      "outputs": [
        {
          "output_type": "stream",
          "text": [
            "The number 10 is bigger!\n"
          ],
          "name": "stdout"
        }
      ]
    },
    {
      "cell_type": "markdown",
      "metadata": {
        "id": "9iy9GOsyuTjY"
      },
      "source": [
        "Activity 02: Leia um número fornecido pelo usuário. Se esse número for positivo, calcule a raíz quadrada do número. Se ele for negativo, mostre uma mensagem dizendo que é inválido. \n"
      ]
    },
    {
      "cell_type": "code",
      "metadata": {
        "colab": {
          "base_uri": "https://localhost:8080/"
        },
        "id": "h3y60cAju7T5",
        "outputId": "29c975e7-61d4-4f7b-c4f9-0b68a9db5336"
      },
      "source": [
        "import math\n",
        "\n",
        "third_number = float(input(\"Please, provide another number. \"))\n",
        "if third_number >= 0:\n",
        "  print(\"The square root of this number is \", math.sqrt(third_number))\n",
        "else:\n",
        "  print(\"Invalid number. Please, try another one.\")  \n"
      ],
      "execution_count": 11,
      "outputs": [
        {
          "output_type": "stream",
          "text": [
            "Please, provide another number. -58\n",
            "Invalid number. Please, try another one.\n"
          ],
          "name": "stdout"
        }
      ]
    },
    {
      "cell_type": "markdown",
      "metadata": {
        "id": "t3KVJMe1w2JB"
      },
      "source": [
        "Activity 03: Leia um número real. Se o número for positivo, imprima a raíz quadrada. Do contrário, imprima o número ao quadrado. "
      ]
    },
    {
      "cell_type": "code",
      "metadata": {
        "colab": {
          "base_uri": "https://localhost:8080/"
        },
        "id": "wl2GMmJUxRRw",
        "outputId": "250b9dd1-19df-4725-a964-87ed6ece363b"
      },
      "source": [
        "forth_number = float(input(\"Please, provide another number. \"))\n",
        "if forth_number >= 0:\n",
        "  print(\"The square root of this number is \", math.sqrt(forth_number))\n",
        "else:\n",
        "  print(\"The square of this number is \", math.pow(forth_number, 2))\n",
        "  \n"
      ],
      "execution_count": 15,
      "outputs": [
        {
          "output_type": "stream",
          "text": [
            "Please, provide another number. -5\n",
            "The square of this number is  25.0\n"
          ],
          "name": "stdout"
        }
      ]
    },
    {
      "cell_type": "markdown",
      "metadata": {
        "id": "avi_GZV20dPh"
      },
      "source": [
        "Activity 04: Faça um programa que receba um número inteiro e verifique se este número é par ou ímpar."
      ]
    },
    {
      "cell_type": "code",
      "metadata": {
        "colab": {
          "base_uri": "https://localhost:8080/"
        },
        "id": "g9tUYcbv0lpD",
        "outputId": "a9123d02-85a2-4b25-de46-a8f8d552af83"
      },
      "source": [
        "sixth_number = int(input(\"Please, provide an integer. \"))\n",
        "if sixth_number %2 == 0:\n",
        "  print(\"This is an even number!\")\n",
        "else:\n",
        "  print(\"This is an odd number!\") \n",
        "   "
      ],
      "execution_count": 18,
      "outputs": [
        {
          "output_type": "stream",
          "text": [
            "Please, provide an integer. 5263356\n",
            "This is an even number!\n"
          ],
          "name": "stdout"
        }
      ]
    },
    {
      "cell_type": "markdown",
      "metadata": {
        "id": "CQ0auUbm3ihn"
      },
      "source": [
        "Activity 06: Leia o salário de um trabalhador e o valor da prestação de um empréstimo. Se a prestação for maior do que 20% do salário, imprima: \"Empréstimo não concedido\". Caso contrário, imprima \"Empréstimo concedido\"."
      ]
    },
    {
      "cell_type": "code",
      "metadata": {
        "colab": {
          "base_uri": "https://localhost:8080/"
        },
        "id": "wDXKEheZ5RDK",
        "outputId": "dbbdd937-a245-4b80-dc46-06edbc8a1f22"
      },
      "source": [
        "stipend = float(input(\"Please, provide the value of your salary. \"))\n",
        "tax = float(input(\"What is your loan's monthly quantity? \"))\n",
        "\n",
        "if tax > (0.2*stipend):\n",
        "  print(\"Empréstimo não concedido. Sorry.\")\n",
        "else:\n",
        "  print(\"Empréstimo concedido. Yey!\")\n",
        "\n"
      ],
      "execution_count": 21,
      "outputs": [
        {
          "output_type": "stream",
          "text": [
            "Please, provide the value of your salary. 2000\n",
            "What is your loan's monthly quantity? 500\n",
            "Empréstimo não concedido. Sorry.\n"
          ],
          "name": "stdout"
        }
      ]
    }
  ]
}